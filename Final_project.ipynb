{
 "cells": [
  {
   "cell_type": "markdown",
   "id": "164e8756",
   "metadata": {},
   "source": [
    "# <span style=\"color:blue; font-weight:bold\">FINAL PROJECT</span>"
   ]
  },
  {
   "cell_type": "markdown",
   "id": "69a2f00e",
   "metadata": {},
   "source": [
    "# 1.Importation"
   ]
  },
  {
   "cell_type": "code",
   "execution_count": null,
   "id": "eb1cc724",
   "metadata": {},
   "outputs": [],
   "source": [
    "import pandas as pd\n",
    "import numpy as np\n",
    "\n",
    "import matplotlib.pyplot as plt\n",
    "import plotly.express as px\n",
    "import plotly.graph_objects as go\n",
    "\n",
    "# from sklearn.model_selection import train_test_split\n",
    "# from sklearn.pipeline import Pipeline\n",
    "# from sklearn.impute import SimpleImputer\n",
    "# from sklearn.preprocessing import OneHotEncoder, StandardScaler, LabelEncoder, PolynomialFeatures\n",
    "# from sklearn.compose import ColumnTransformer\n",
    "# from sklearn.linear_model import LinearRegression\n",
    "# from sklearn.metrics import accuracy_score\n",
    "# from sklearn.metrics import r2_score\n",
    "\n",
    "import warnings\n",
    "\n",
    "warnings.filterwarnings(\n",
    "    \"ignore\", category=DeprecationWarning\n",
    ")  # to avoid deprecation warnings"
   ]
  },
  {
   "cell_type": "code",
   "execution_count": null,
   "id": "753009f3",
   "metadata": {},
   "outputs": [],
   "source": [
    "from kaggle.api.kaggle_api_extended import KaggleApi\n",
    "import pandas as pd\n",
    "\n",
    "# Initialize the Kaggle API\n",
    "api = KaggleApi()\n",
    "api.authenticate()\n",
    "\n",
    "# Dataset properties (owner/dataset-name)\n",
    "dataset_name = \"davidgauthier/glassdoor-job-reviews\"\n",
    "\n",
    "# Download the dataset files to the current directory\n",
    "api.dataset_download_files(dataset_name, path='./', unzip=True)"
   ]
  },
  {
   "cell_type": "code",
   "execution_count": null,
   "id": "aec76842",
   "metadata": {},
   "outputs": [],
   "source": [
    "# Read CSV file into a DataFrame\n",
    "dataset = pd.read_csv(\"glassdoor_reviews.csv\")\n",
    "dataset_full = dataset.copy()"
   ]
  },
  {
   "cell_type": "code",
   "execution_count": null,
   "id": "7bb93275",
   "metadata": {},
   "outputs": [],
   "source": [
    "# Display the first few rows of the dataset to understand its structure\n",
    "print(dataset.head(3))"
   ]
  },
  {
   "cell_type": "markdown",
   "id": "e0773f56",
   "metadata": {},
   "source": [
    "Ranking for the recommendation of the firm, CEO approval, and outlook are allocated categories v, r, x, and o, with the following meanings:\n",
    "v - Positive, r - Mild, x - Negative, o - No opinion"
   ]
  },
  {
   "cell_type": "markdown",
   "id": "007722e4",
   "metadata": {},
   "source": [
    "# 2. EDA"
   ]
  },
  {
   "cell_type": "code",
   "execution_count": null,
   "id": "9303e2f9",
   "metadata": {},
   "outputs": [],
   "source": [
    "dataset.info()"
   ]
  },
  {
   "cell_type": "code",
   "execution_count": null,
   "id": "f8e3062d",
   "metadata": {},
   "outputs": [],
   "source": [
    "total_length = len(dataset)\n",
    "print(f\"Total length of the dataset: {total_length}\")"
   ]
  },
  {
   "cell_type": "markdown",
   "id": "111a0eaa",
   "metadata": {},
   "source": [
    "## 2.1 Valeurs manquantes"
   ]
  },
  {
   "cell_type": "code",
   "execution_count": null,
   "id": "4f6e1fc9",
   "metadata": {},
   "outputs": [],
   "source": [
    "# Check for missing values in the dataset\n",
    "missing_values = dataset.isnull().sum()\n",
    "print(\"Nombres de valeurs manquantes:\\n\", total_length - missing_values[missing_values > 0])\n",
    "print()\n",
    "percentage = (missing_values / total_length) * 100\n",
    "print(f\"Pourcentage de valeurs manquantes:\\n{percentage[missing_values > 0].sort_values(ascending=False)}\")"
   ]
  },
  {
   "cell_type": "markdown",
   "id": "a54feecb",
   "metadata": {},
   "source": [
    "Avec 83% de données manquantes, on supprime diversity_inclusion"
   ]
  },
  {
   "cell_type": "code",
   "execution_count": null,
   "id": "f8a33539",
   "metadata": {},
   "outputs": [],
   "source": [
    "# Drop de diversity_inclusion\n",
    "dataset.drop(columns=[\"diversity_inclusion\"], inplace=True)"
   ]
  },
  {
   "cell_type": "code",
   "execution_count": null,
   "id": "77fd7a91",
   "metadata": {},
   "outputs": [],
   "source": [
    "list_numerical = dataset.select_dtypes(include=[np.number]).columns.tolist()\n",
    "list_categorical = dataset.select_dtypes(include=[np.object_]).columns.tolist()"
   ]
  },
  {
   "cell_type": "markdown",
   "id": "28a94595",
   "metadata": {},
   "source": [
    "## 2.2 Firmes' reviews"
   ]
  },
  {
   "cell_type": "code",
   "execution_count": null,
   "id": "f08794cc",
   "metadata": {},
   "outputs": [],
   "source": [
    "df_firm = dataset[\"firm\"].reset_index(drop=True)\n",
    "firm_count = df_firm.value_counts()\n",
    "# Nombre de firmes\n",
    "print(f\"Nombre de firmes: {len(firm_count)}\")\n",
    "# Nombre de firmes avec au moins 10 reviews\n",
    "review = 100\n",
    "print(f\"Nombre de firmes avec au moins {review} reviews: {len(firm_count[firm_count >= review])}\")\n"
   ]
  },
  {
   "cell_type": "code",
   "execution_count": null,
   "id": "b68c25a8",
   "metadata": {},
   "outputs": [],
   "source": [
    "# Top X firmes avec le plus de reviews\n",
    "top_nb = 30\n",
    "top_firmes = firm_count.nlargest(top_nb)\n",
    "top_firmes_normalised = 100 * top_firmes/top_firmes.max()\n",
    "\n",
    "# J'ai normalisé les reviews pour comparer les firmes entre elles\n",
    "fig = px.histogram(top_firmes, x=top_firmes.index, y=top_firmes.values)\n",
    "fig.update_layout(\n",
    "    title=f\"Top {top_nb} firmes avec le plus de reviews\",\n",
    "    xaxis_title=\"Firme\",\n",
    "    yaxis_title=\"Nombres de reviews\",\n",
    "    xaxis_tickangle=-45,\n",
    ")\n",
    "fig.show()\n",
    "\n",
    "fig = px.histogram(top_firmes_normalised, x=top_firmes_normalised.index, y=top_firmes_normalised.values)\n",
    "fig.update_layout(\n",
    "    title=f\"Top {top_nb} firmes avec le plus de reviews\",\n",
    "    xaxis_title=\"Firme\",\n",
    "    yaxis_title=\"Pourcentages de reviews (%) normalisés\",\n",
    "    xaxis_tickangle=-45,\n",
    ")\n",
    "fig.show()"
   ]
  },
  {
   "cell_type": "markdown",
   "id": "cff551e8",
   "metadata": {},
   "source": [
    "Je propose de limiter le projet aux 30 plus grandes entreprises"
   ]
  },
  {
   "cell_type": "code",
   "execution_count": null,
   "id": "e3f77aab",
   "metadata": {},
   "outputs": [],
   "source": [
    "# dataset_limited = dataset[dataset[\"firm\"].isin(top_firmes.index.to_list())].reset_index(drop=True)\n",
    "# dataset = dataset_limited"
   ]
  },
  {
   "cell_type": "markdown",
   "id": "4ce2d6b2",
   "metadata": {},
   "source": [
    "Gestion des erreurs manquantes pour les variables numériques"
   ]
  },
  {
   "cell_type": "code",
   "execution_count": null,
   "id": "95f190dd",
   "metadata": {},
   "outputs": [],
   "source": [
    "dataset_drop = dataset.copy()\n",
    "dataset_replacement = dataset.copy()"
   ]
  },
  {
   "cell_type": "code",
   "execution_count": null,
   "id": "af33aed4",
   "metadata": {},
   "outputs": [],
   "source": [
    "# Drop des erreurs manquantes\n",
    "for feature in list_numerical:\n",
    "    dataset_drop = dataset_drop.dropna(subset=feature, how=\"all\")\n",
    "dataset_drop.reset_index(drop=True, inplace=True)"
   ]
  },
  {
   "cell_type": "code",
   "execution_count": null,
   "id": "039a0ab7",
   "metadata": {},
   "outputs": [],
   "source": [
    "# Remplacement des valeurs manquantes par la valeur médiane pour chaque entreprise\n",
    "for feature in list_numerical:\n",
    "    dataset_replacement[feature] = dataset_replacement.groupby(\"firm\")[feature].transform(lambda df: df.fillna(df.median()))"
   ]
  },
  {
   "cell_type": "code",
   "execution_count": null,
   "id": "0b27a486",
   "metadata": {},
   "outputs": [],
   "source": [
    "df_firm_drop = dataset_drop[\"firm\"].reset_index(drop=True).value_counts()\n",
    "df_firm_drop = df_firm_drop.nlargest(top_nb).reset_index()\n",
    "\n",
    "df_firm_replacement = dataset_replacement[\"firm\"].reset_index(drop=True).value_counts()\n",
    "df_firm_replacement = df_firm_replacement.nlargest(top_nb).reset_index()\n"
   ]
  },
  {
   "cell_type": "code",
   "execution_count": null,
   "id": "78caec51",
   "metadata": {},
   "outputs": [],
   "source": [
    "df = pd.merge(df_firm_drop,df_firm_replacement,on='firm')\n",
    "df[\"diff Y-X\"] = round(100 - df[\"count_x\"]*100/df[\"count_y\"],1)\n",
    "df"
   ]
  },
  {
   "cell_type": "markdown",
   "id": "4754240c",
   "metadata": {},
   "source": [
    "On observe des pertes conséquentes si on drop les données manquantes."
   ]
  },
  {
   "cell_type": "code",
   "execution_count": null,
   "id": "d3ca030e",
   "metadata": {},
   "outputs": [],
   "source": [
    "dataset = dataset_replacement.copy()"
   ]
  },
  {
   "cell_type": "code",
   "execution_count": null,
   "id": "e82c9b07",
   "metadata": {},
   "outputs": [],
   "source": [
    "dataset[\"current\"].unique()"
   ]
  },
  {
   "cell_type": "markdown",
   "id": "cdb41b34",
   "metadata": {},
   "source": [
    "On va créer de nouvelles catégories: Current & Former; Employee, Contractor, Intern, Freelancer, Temporary"
   ]
  },
  {
   "cell_type": "code",
   "execution_count": null,
   "id": "43876931",
   "metadata": {},
   "outputs": [],
   "source": [
    "def categorize_experience(string_value):\n",
    "    if 'less than 1 year' in string_value.lower():\n",
    "        return '1-'\n",
    "    elif 'more than 1 year' in string_value.lower():\n",
    "        return '1+'\n",
    "    elif 'more than 3 year' in string_value.lower():\n",
    "        return '3+'\n",
    "    elif 'more than 5 year' in string_value.lower():\n",
    "        return '5+'\n",
    "    elif 'more than 8 year' in string_value.lower():\n",
    "        return '8+'\n",
    "    elif 'more than 10 year' in string_value.lower():\n",
    "        return '10+'\n",
    "    else:\n",
    "        return 'No information'"
   ]
  },
  {
   "cell_type": "code",
   "execution_count": null,
   "id": "aa1ad148",
   "metadata": {},
   "outputs": [],
   "source": [
    "def categorize_job(string_value):\n",
    "    if 'employee' in string_value.lower():\n",
    "        return 'employee'\n",
    "    elif 'contractor' in string_value.lower():\n",
    "        return 'contractor'\n",
    "    elif 'intern' in string_value.lower():\n",
    "        return 'intern'\n",
    "    elif 'temporary' in string_value.lower():\n",
    "        return 'temporary'\n",
    "    elif 'freelancer' in string_value.lower():\n",
    "        return 'freelancer'\n",
    "    else:\n",
    "        return np.nan"
   ]
  },
  {
   "cell_type": "code",
   "execution_count": null,
   "id": "5403ac4f",
   "metadata": {},
   "outputs": [],
   "source": [
    "def categorize_current(string_value):\n",
    "    if 'current' in string_value.lower():\n",
    "        return 'current'\n",
    "    elif 'former' in string_value.lower():\n",
    "        return 'former'\n",
    "    else:\n",
    "        return np.nan"
   ]
  },
  {
   "cell_type": "code",
   "execution_count": null,
   "id": "63c3b470",
   "metadata": {},
   "outputs": [],
   "source": [
    "dataset[\"status\"] = dataset[\"current\"].apply(categorize_current)\n",
    "dataset[\"job\"] = dataset[\"current\"].apply(categorize_job)\n",
    "dataset[\"experience\"] = dataset[\"current\"].apply(categorize_experience)\n"
   ]
  },
  {
   "cell_type": "code",
   "execution_count": null,
   "id": "b86e19dc",
   "metadata": {},
   "outputs": [],
   "source": [
    "fig = px.pie(dataset, names='experience', title='Répartition des experiences')\n",
    "fig.show()"
   ]
  },
  {
   "cell_type": "code",
   "execution_count": null,
   "id": "3be7f730",
   "metadata": {},
   "outputs": [],
   "source": [
    "fig = px.histogram(dataset, x = dataset['job'], title='Répartition des jobs')\n",
    "fig.show()"
   ]
  },
  {
   "cell_type": "markdown",
   "id": "cf5efc69",
   "metadata": {},
   "source": [
    "Suppresion des cases autres que employee ?"
   ]
  },
  {
   "cell_type": "code",
   "execution_count": null,
   "id": "41a45bcf",
   "metadata": {},
   "outputs": [],
   "source": [
    "fig = px.pie(dataset, names = dataset['status'], title='Répartition des status')\n",
    "fig.show()"
   ]
  },
  {
   "cell_type": "code",
   "execution_count": null,
   "id": "0f242785",
   "metadata": {},
   "outputs": [],
   "source": [
    "dataset.head(1)"
   ]
  },
  {
   "cell_type": "code",
   "execution_count": null,
   "id": "9399556b",
   "metadata": {},
   "outputs": [],
   "source": [
    "dataset.drop(columns=[\"current\"], inplace=True)"
   ]
  },
  {
   "cell_type": "code",
   "execution_count": null,
   "id": "14ae03ed",
   "metadata": {},
   "outputs": [],
   "source": [
    "list_review = ['headline','pros','cons']\n",
    "dataset_review = dataset[list_review].copy()\n",
    "dataset_notes = dataset.drop(columns=list_review).copy()"
   ]
  },
  {
   "cell_type": "code",
   "execution_count": null,
   "id": "4e20d9a2",
   "metadata": {},
   "outputs": [],
   "source": [
    "len(dataset_notes['job_title'].unique())"
   ]
  }
 ],
 "metadata": {
  "kernelspec": {
   "display_name": "Python 3",
   "language": "python",
   "name": "python3"
  },
  "language_info": {
   "codemirror_mode": {
    "name": "ipython",
    "version": 3
   },
   "file_extension": ".py",
   "mimetype": "text/x-python",
   "name": "python",
   "nbconvert_exporter": "python",
   "pygments_lexer": "ipython3",
   "version": "3.13.1"
  }
 },
 "nbformat": 4,
 "nbformat_minor": 5
}
